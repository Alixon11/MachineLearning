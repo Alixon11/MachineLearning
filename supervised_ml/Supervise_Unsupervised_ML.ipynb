{
 "cells": [
  {
   "cell_type": "markdown",
   "metadata": {},
   "source": [
    "**In This Notebook**. i will share my step by step to learn Machine Learning. \n",
    "**Let's Start**"
   ]
  },
  {
   "cell_type": "markdown",
   "metadata": {},
   "source": [
    "**What is Machine Learning?:**\"Field of study that gives computers the ability to learn without being explicity programmed\" \n",
    "* **Supervised Learning:** Refers to algoritms that learn **X** to **Y**. when you train your model with inputs X and the right answers,that is the labels Y, that the learning algorithm eventually learns to take just the input alone without the output label and gives a resadonably accurate prediction pr guess of the output.\n",
    "<img src = \"supervise_definition.png\">  \n",
    "\n",
    "Let's dive more deeply into one specific example. \n",
    "<img src = \"house_price_predict.png\">\n",
    "\n",
    "The task of the learning algorithm is to produce more of these right answers, specifically predicting what is the likely price for other houses like your friend's house.\n",
    "\n",
    "There's a second major type of **supervised learning algorithm called a CLASIFICATION ALGORITHM**\n",
    "* You're building a machine learning system so that doctors can have diagnostic tool to detect breast cancer.\n",
    "* In this case 2 possible outputs 0 or 1, bening or malignant. This is different from regression wich tries to predict any number.\n",
    "* The question is, will your system classify this tumor as bening or malignant?\n",
    "*  Class or category when referring to the output, it means the same thing\n",
    "* Classiication algorithms predict categories\n",
    "\n",
    "<img src = \"classification.png\">\n",
    "\n",
    "\n",
    "\n"
   ]
  },
  {
   "cell_type": "markdown",
   "metadata": {},
   "source": [
    "**Unsupervised learning:** \n",
    "\n",
    " Data only comes with inputs X, but not output labels y. **Algorithm has to find structure in the data**\n",
    "* In supervised learning each example, was associated with an output label such as bening or malignant.\n",
    "* Unsupervised learning given data that isn't associated with any output label Y. \n",
    "* **Clustering:** Group similar data points together.\n",
    "* **Anomaly detection:** Find unusual data points.\n",
    "* **Dimensionality reduction:** Compress data using fewer numbers. \n",
    "\n",
    "We call it unsupervised because we're not trying to supervise the algorithm. To give some quote answer for every input.\n",
    "\n",
    "<img src=\"sup_unsup.png\">"
   ]
  }
 ],
 "metadata": {
  "kernelspec": {
   "display_name": "Python 3.6.7 64-bit",
   "language": "python",
   "name": "python3"
  },
  "language_info": {
   "name": "python",
   "version": "3.6.7"
  },
  "orig_nbformat": 4,
  "vscode": {
   "interpreter": {
    "hash": "f4e9cda46bb2d9d7fe6ecdff0f8336a934348bf06cb492f2f42f60739b3403b4"
   }
  }
 },
 "nbformat": 4,
 "nbformat_minor": 2
}
